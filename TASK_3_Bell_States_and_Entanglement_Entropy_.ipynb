{
  "nbformat": 4,
  "nbformat_minor": 0,
  "metadata": {
    "colab": {
      "provenance": [],
      "include_colab_link": true
    },
    "kernelspec": {
      "name": "python3",
      "display_name": "Python 3"
    },
    "language_info": {
      "name": "python"
    }
  },
  "cells": [
    {
      "cell_type": "markdown",
      "metadata": {
        "id": "view-in-github",
        "colab_type": "text"
      },
      "source": [
        "<a href=\"https://colab.research.google.com/github/vtu22874-eng/QML-Tasks/blob/main/TASK_3_Bell_States_and_Entanglement_Entropy_.ipynb\" target=\"_parent\"><img src=\"https://colab.research.google.com/assets/colab-badge.svg\" alt=\"Open In Colab\"/></a>"
      ]
    },
    {
      "cell_type": "code",
      "source": [
        "Aim: To construct Bell States via Tensor Products and Measuring Entanglement Entropy in\n",
        "Bipartite.\n",
        "1. Construct all four Bell states (|Φ⁺⟩, |Φ⁻⟩, |Ψ⁺⟩, |Ψ⁻⟩) using quantum gates (Hadamard and\n",
        "CNOT).\n",
        "2. Measure their entanglement entropy to verify that they are maximally entangled (entropy\n",
        "= 1).\n",
        "3. Compare with a product state (|00⟩) to confirm it has zero entanglement (entropy = 0).\n",
        "\n",
        "Algorithm :\n",
        "1. Define quantum gates\n",
        "2. Create entangled Bell states using tensor products.\n",
        "3. Reshape the states for partial trace computation.\n",
        "4. Calculate entanglement entropy of bipartite state\n",
        "5. Compute eigenvalues (using eigh for Hermitian matrices)\n",
        "6. Compute von Neumann entropy."
      ],
      "metadata": {
        "id": "QH9t5tWNBPlH"
      },
      "execution_count": null,
      "outputs": []
    },
    {
      "cell_type": "code",
      "source": [
        "import numpy as np\n",
        "from math import log2, sqrt\n",
        "\n",
        "print(\"\\n\" + \"=\"*50)\n",
        "print(\"TASK 3: BELL STATES AND ENTANGLEMENT ENTROPY\")\n",
        "print(\"=\"*50)\n",
        "\n",
        "# Define quantum gates\n",
        "H = 1/sqrt(2) * np.array([[1, 1], [1, -1]])  # Hadamard gate\n",
        "I = np.eye(2)                                # Identity gate\n",
        "CNOT = np.array([[1,0,0,0], [0,1,0,0], [0,0,0,1], [0,0,1,0]])  # CNOT gate\n",
        "\n",
        "class BellStates:\n",
        "    @staticmethod\n",
        "    def phi_plus():\n",
        "        state = np.kron([1, 0], [1, 0])  # |00⟩\n",
        "        state = np.kron(H, I) @ state\n",
        "        return CNOT @ state\n",
        "\n",
        "    @staticmethod\n",
        "    def phi_minus():\n",
        "        state = np.kron([0, 1], [1, 0])  # |10⟩\n",
        "        state = np.kron(H, I) @ state\n",
        "        return CNOT @ state\n",
        "\n",
        "    @staticmethod\n",
        "    def psi_plus():\n",
        "        state = np.kron([1, 0], [0, 1])  # |01⟩\n",
        "        state = np.kron(H, I) @ state\n",
        "        return CNOT @ state\n",
        "\n",
        "    @staticmethod\n",
        "    def psi_minus():\n",
        "        state = np.kron([0, 1], [0, 1])  # |11⟩\n",
        "        state = np.kron(H, I) @ state\n",
        "        return CNOT @ state\n",
        "\n",
        "def partial_trace(rho, dims, axis=0):\n",
        "    dA, dB = dims\n",
        "    if axis == 0:\n",
        "        rho_reduced = np.zeros((dA, dA), dtype=complex)\n",
        "        for i in range(dA):\n",
        "            for j in range(dA):\n",
        "                for k in range(dB):\n",
        "                    rho_reduced[i,j] += rho[i*dB + k, j*dB + k]\n",
        "    else:\n",
        "        rho_reduced = np.zeros((dB, dB), dtype=complex)\n",
        "        for i in range(dB):\n",
        "            for j in range(dB):\n",
        "                for k in range(dA):\n",
        "                    rho_reduced[i,j] += rho[k*dB + i, k*dB + j]\n",
        "    return rho_reduced\n",
        "\n",
        "def entanglement_entropy(state):\n",
        "    if state.ndim == 1:\n",
        "        rho = np.outer(state, state.conj())\n",
        "    else:\n",
        "        rho = state\n",
        "    rho_A = partial_trace(rho, [2, 2], axis=1)\n",
        "    eigvals = np.linalg.eigvalsh(rho_A)\n",
        "    entropy = 0.0\n",
        "    for lamda in eigvals:\n",
        "        if lamda > 1e-10:\n",
        "            entropy -= lamda * log2(lamda)\n",
        "    return entropy\n",
        "\n",
        "if __name__ == \"__main__\":\n",
        "    phi_p = BellStates.phi_plus()\n",
        "    phi_m = BellStates.phi_minus()\n",
        "    psi_p = BellStates.psi_plus()\n",
        "    psi_m = BellStates.psi_minus()\n",
        "\n",
        "    print(f\"Entanglement entropy of |Φ⁺⟩: {entanglement_entropy(phi_p):.4f}\")\n",
        "    print(f\"Entanglement entropy of |Φ⁻⟩: {entanglement_entropy(phi_m):.4f}\")\n",
        "    print(f\"Entanglement entropy of |Ψ⁺⟩: {entanglement_entropy(psi_p):.4f}\")\n",
        "    print(f\"Entanglement entropy of |Ψ⁻⟩: {entanglement_entropy(psi_m):.4f}\")\n",
        "\n",
        "    product_state = np.kron([1, 0], [1, 0])  # |00⟩\n",
        "    print(f\"Entanglement entropy of |00⟩: {entanglement_entropy(product_state):.4f}\")\n"
      ],
      "metadata": {
        "colab": {
          "base_uri": "https://localhost:8080/"
        },
        "id": "H2kzOAlG-T_s",
        "outputId": "459a60a1-4768-44f0-83d3-ee5ecc3d2c9a"
      },
      "execution_count": null,
      "outputs": [
        {
          "output_type": "stream",
          "name": "stdout",
          "text": [
            "\n",
            "==================================================\n",
            "TASK 3: BELL STATES AND ENTANGLEMENT ENTROPY\n",
            "==================================================\n",
            "Entanglement entropy of |Φ⁺⟩: 1.0000\n",
            "Entanglement entropy of |Φ⁻⟩: 1.0000\n",
            "Entanglement entropy of |Ψ⁺⟩: 1.0000\n",
            "Entanglement entropy of |Ψ⁻⟩: 1.0000\n",
            "Entanglement entropy of |00⟩: 0.0000\n"
          ]
        }
      ]
    },
    {
      "cell_type": "code",
      "source": [
        "Result:\n",
        "   Thus the program for bell states and entanglement entropy were written and executed and verified successfully"
      ],
      "metadata": {
        "id": "wWwfMA0S-ZFw"
      },
      "execution_count": null,
      "outputs": []
    }
  ]
}