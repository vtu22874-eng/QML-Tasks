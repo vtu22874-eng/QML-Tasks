{
  "nbformat": 4,
  "nbformat_minor": 0,
  "metadata": {
    "colab": {
      "provenance": [],
      "include_colab_link": true
    },
    "kernelspec": {
      "name": "python3",
      "display_name": "Python 3"
    },
    "language_info": {
      "name": "python"
    }
  },
  "cells": [
    {
      "cell_type": "markdown",
      "metadata": {
        "id": "view-in-github",
        "colab_type": "text"
      },
      "source": [
        "<a href=\"https://colab.research.google.com/github/vtu22874-eng/QML-Tasks/blob/main/TASK_2_Pauli_Matrices_and_Eigenvalues_Eigenvectors.ipynb\" target=\"_parent\"><img src=\"https://colab.research.google.com/assets/colab-badge.svg\" alt=\"Open In Colab\"/></a>"
      ]
    },
    {
      "cell_type": "code",
      "execution_count": null,
      "metadata": {
        "id": "mBy-dOIa5IVE"
      },
      "outputs": [],
      "source": [
        "Aim:\n",
        "\n",
        "To analyze Pauli matrices through application on qubit states and eigenvalue decomposition.\n",
        "\n",
        "1.\tMathematical Model\n",
        "The Pauli matrices are a set of three 2×2 complex Hermitian and unitary matrices that are widely used in quantum mechanics, particularly in spin systems (spin-1/2 particles), quantum computing, and quantum information theory. They are denoted as σx, σy, and σz, and are defined as follows:\n",
        "\n",
        "\n",
        "1.1. Eigenvalues and Eigenvectors of the Pauli Matrices\n",
        "Each Pauli matrix has eigenvalues λ = ±1 and corresponding eigenvectors:\n",
        "\n",
        "i.\tσx (Pauli-X Matrix)\n",
        "•\tEigenvalues: λ = +1, −1\n",
        "•\tEigenvectors:\n",
        "o\tFor λ = +1\n",
        "\n",
        "o\tFor λ = −1\n",
        "\n",
        "ii.\tσy (Pauli-Y Matrix)\n",
        "•\tEigenvalues: λ = +1, −1\n",
        "•\tEigenvectors:\n",
        "o\tFor λ = +1\n",
        "\n",
        "\n",
        "o\tFor λ = −1\n",
        "\n",
        "\n",
        "iii.\tσz (Pauli-Z Matrix)\n",
        "•\tEigenvalues: λ = +1, −1\n",
        "•\tEigenvectors:\n",
        "o\tFor λ = +1\n",
        "\n",
        "\n",
        "o\tFor λ = −1\n",
        "\n",
        "\n",
        "2.\tObservations\n",
        "•\tAll three Pauli matrices have eigenvalues ±1.\n",
        "•\tTheir eigenvectors are orthonormal, i.e.,  ⟨+∣−⟩ = 0 and ⟨±∣±⟩ = 1.\n",
        "•\tThe eigenvectors of σx and σy are superpositions of the eigenvectors of σz, reflecting the non-commutativity of the Pauli matrices ([σi,σj]=2iϵijkσk).\n",
        "\n",
        "3.\tPhysical Interpretation\n",
        "In quantum mechanics, the Pauli matrices represent spin measurements along the x, y, and z axes for a spin-1/2 particle (like an electron). The eigenvalues ±1 correspond to the possible outcomes of a spin measurement (spin-up or spin-down), and the eigenvectors represent the spin states along the respective axes.\n",
        "\n",
        "4.\tAlgorithm\n",
        "•\tDefine Pauli-X, Y, and Z matrices.\n",
        "•\tApply these matrices to |0⟩ and |1⟩ states.\n",
        "•\tUse linear algebra to compute eigenvalues and eigenvectors.\n",
        "•\tPrint matrix properties.\n",
        "\n"
      ]
    },
    {
      "cell_type": "code",
      "source": [
        "import numpy as np\n",
        "from scipy.linalg import eig\n",
        "\n",
        "print(\"\\n\" + \"=\"*50)\n",
        "print(\"TASK 2: PAULI MATRICES AND EIGEN-ANALYSIS\")\n",
        "print(\"=\"*50)\n",
        "# Define Pauli matrices\n",
        "pauli_x = np.array([[0, 1], [1, 0]])\n",
        "pauli_y = np.array([[0, -1j], [1j, 0]])\n",
        "pauli_z = np.array([[1, 0], [0, -1]])\n",
        "print(\"Pauli-X matrix:\")\n",
        "print(pauli_x)\n",
        "print(\"\\nPauli-Y matrix:\")\n",
        "print(pauli_y)\n",
        "print(\"\\nPauli-Z matrix:\")\n",
        "print(pauli_z)\n",
        "# Apply to qubit states\n",
        "qubit_0 = np.array([1, 0]) # |0⟩\n",
        "qubit_1 = np.array([0, 1]) # |1⟩\n",
        "print(\"\\nApplying Pauli-X to |0⟩:\", pauli_x @ qubit_0)\n",
        "print(\"Applying Pauli-X to |1⟩:\", pauli_x @ qubit_1)\n",
        "# Compute eigenvalues and eigenvectors\n",
        "def analyze_operator(matrix, name):\n",
        "    eigenvals, eigenvecs = eig(matrix)\n",
        "    print(f\"\\n{name} Eigenvalues:\", eigenvals)\n",
        "    print(f\"{name} Eigenvectors:\")\n",
        "    for i, vec in enumerate(eigenvecs.T):\n",
        "        print(f\" λ={eigenvals[i]:.1f}: {vec}\")\n",
        "\n",
        "analyze_operator(pauli_x, \"Pauli-X\")\n",
        "analyze_operator(pauli_y, \"Pauli-Y\")\n",
        "analyze_operator(pauli_z, \"Pauli-Z\")"
      ],
      "metadata": {
        "colab": {
          "base_uri": "https://localhost:8080/"
        },
        "id": "GOl3dZde5j0j",
        "outputId": "3a48192d-9b4f-44d3-96f8-806c71a65d71"
      },
      "execution_count": null,
      "outputs": [
        {
          "output_type": "stream",
          "name": "stdout",
          "text": [
            "\n",
            "==================================================\n",
            "TASK 2: PAULI MATRICES AND EIGEN-ANALYSIS\n",
            "==================================================\n",
            "Pauli-X matrix:\n",
            "[[0 1]\n",
            " [1 0]]\n",
            "\n",
            "Pauli-Y matrix:\n",
            "[[ 0.+0.j -0.-1.j]\n",
            " [ 0.+1.j  0.+0.j]]\n",
            "\n",
            "Pauli-Z matrix:\n",
            "[[ 1  0]\n",
            " [ 0 -1]]\n",
            "\n",
            "Applying Pauli-X to |0⟩: [0 1]\n",
            "Applying Pauli-X to |1⟩: [1 0]\n",
            "\n",
            "Pauli-X Eigenvalues: [ 1.+0.j -1.+0.j]\n",
            "Pauli-X Eigenvectors:\n",
            " λ=1.0+0.0j: [0.70710678 0.70710678]\n",
            " λ=-1.0+0.0j: [-0.70710678  0.70710678]\n",
            "\n",
            "Pauli-Y Eigenvalues: [ 1.+0.j -1.+0.j]\n",
            "Pauli-Y Eigenvectors:\n",
            " λ=1.0+0.0j: [-0.        -0.70710678j  0.70710678+0.j        ]\n",
            " λ=-1.0+0.0j: [0.70710678+0.j         0.        -0.70710678j]\n",
            "\n",
            "Pauli-Z Eigenvalues: [ 1.+0.j -1.+0.j]\n",
            "Pauli-Z Eigenvectors:\n",
            " λ=1.0+0.0j: [1. 0.]\n",
            " λ=-1.0+0.0j: [0. 1.]\n"
          ]
        }
      ]
    },
    {
      "cell_type": "code",
      "source": [
        "Result:\n",
        "   Thus the program for pauli matrices and eigen values and eigen vectors are written and executed successfully and verified"
      ],
      "metadata": {
        "id": "98rqL6zb6Ewl"
      },
      "execution_count": null,
      "outputs": []
    }
  ]
}