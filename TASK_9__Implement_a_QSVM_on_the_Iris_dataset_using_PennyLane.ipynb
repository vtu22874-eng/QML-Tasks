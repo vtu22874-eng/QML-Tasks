{
  "nbformat": 4,
  "nbformat_minor": 0,
  "metadata": {
    "colab": {
      "provenance": [],
      "include_colab_link": true
    },
    "kernelspec": {
      "name": "python3",
      "display_name": "Python 3"
    },
    "language_info": {
      "name": "python"
    }
  },
  "cells": [
    {
      "cell_type": "markdown",
      "metadata": {
        "id": "view-in-github",
        "colab_type": "text"
      },
      "source": [
        "<a href=\"https://colab.research.google.com/github/vtu22874-eng/QML-Tasks/blob/main/TASK_9__Implement_a_QSVM_on_the_Iris_dataset_using_PennyLane.ipynb\" target=\"_parent\"><img src=\"https://colab.research.google.com/assets/colab-badge.svg\" alt=\"Open In Colab\"/></a>"
      ]
    },
    {
      "cell_type": "code",
      "execution_count": null,
      "metadata": {
        "id": "6UQPj_2hO76z"
      },
      "outputs": [],
      "source": [
        "Aim: To implement a Quantum Support Vector Machine (QSVM) using PennyLane and scikit learn, where the quantum kernel is constructed from a quantum feature map, and evaluate its\n",
        "performance on the Iris dataset for classification tasks.\n",
        "\n",
        "Algorithm - QSVM Algorithm\n",
        "1. Load dataset (Iris, 150 samples, 3 classes).\n",
        "2. Preprocess\n",
        "      Select features [sepal_length, sepal_width, petal_length, petal_width].\n",
        "      Encode target labels numerically.\n",
        "      Split dataset into train (67%) and test (33%).\n",
        "3. Quantum Feature Map\n",
        "      Apply Hadamard (H) gates to all qubits.\n",
        "      Encode features into rotations 𝑅𝑍(𝑥).\n",
        "      Add entanglement with 𝐶𝑁𝑂𝑇 +𝑅𝑍𝑥.𝑥 .\n",
        "4. Quantum Kernel Construction\n",
        "      Use kernel_circuit: apply 𝑈∅(𝑥), then adjoint𝑈∅(𝑥) .\n",
        "      Measure overlap (fidelity).\n",
        "5. Train QSVM\n",
        "      Compute kernel matrix for training data.\n",
        "      Train SVC(kernel = “precomputed”) using scikit-learn.\n",
        "6. Test QSVM\n",
        "      Compute test kernel matrix.\n",
        "      Predict labels for test set.\n",
        "7. Evaluate performance\n",
        "      Confusion Matrix, Classification Report.\n",
        "      Prediction for new point (4.4, 4.4, 4.4, 4.4)."
      ]
    },
    {
      "cell_type": "code",
      "metadata": {
        "id": "92a70ad8"
      },
      "source": [
        "import requests\n",
        "\n",
        "url = \"https://gist.githubusercontent.com/curran/a08a1080b88344b0c8a7/raw/0e7a9b0a5d22642a06d3d5b9bcbad9bf4cd8d2c9/iris.csv\"\n",
        "response = requests.get(url)\n",
        "with open(\"iris.csv\", \"w\") as f:\n",
        "    f.write(response.text)"
      ],
      "execution_count": null,
      "outputs": []
    },
    {
      "cell_type": "code",
      "source": [
        "# Single-file corrected script (error-free)\n",
        "# Requirements (install beforehand):\n",
        "#   pip install pennylane pandas scikit-learn matplotlib\n",
        "\n",
        "import numpy as onp                       # Standard numpy for sklearn / arrays\n",
        "import pennylane as qml\n",
        "from pennylane import numpy as np        # pennylane's numpy for quantum calculations\n",
        "import pandas as pd\n",
        "from sklearn.model_selection import train_test_split\n",
        "from sklearn.metrics import classification_report, confusion_matrix\n",
        "from sklearn.svm import SVC\n",
        "from sklearn.preprocessing import LabelEncoder, StandardScaler\n",
        "import matplotlib.pyplot as plt\n",
        "\n",
        "# -------------------------------\n",
        "# Load Iris dataset\n",
        "# -------------------------------\n",
        "# Ensure iris.csv is present in the working directory.\n",
        "# The UCI dataset does not have a header, so we provide column names.\n",
        "column_names = ['sepal.length', 'sepal.width', 'petal.length', 'petal.width', 'variety']\n",
        "df_iris = pd.read_csv(\"/content/iris.csv\", header=None, names=column_names)\n",
        "\n",
        "# Inspect column names to ensure they are correct\n",
        "print(\"Column names in the dataframe:\", list(df_iris.columns))\n",
        "\n",
        "feature_cols = ['sepal.length', 'sepal.width', 'petal.length', 'petal.width']\n",
        "if not all(col in df_iris.columns for col in feature_cols):\n",
        "    raise ValueError(f\"Expected feature columns {feature_cols} not found in CSV. Found: {list(df_iris.columns)}\")\n",
        "\n",
        "\n",
        "X = df_iris[feature_cols].values.astype(float)\n",
        "y = df_iris['variety'].values\n",
        "\n",
        "# Encode labels into integers\n",
        "encoder = LabelEncoder()\n",
        "y = encoder.fit_transform(y)\n",
        "\n",
        "# Optionally scale features (helps many ML algorithms)\n",
        "scaler = StandardScaler()\n",
        "X = scaler.fit_transform(X)\n",
        "\n",
        "# Train-test split\n",
        "x_train, x_test, y_train, y_test = train_test_split(X, y, test_size=0.33, random_state=42, stratify=y)\n",
        "\n",
        "# -------------------------------\n",
        "# Define Quantum Feature Map\n",
        "# -------------------------------\n",
        "n_qubits = 4\n",
        "if X.shape[1] != n_qubits:\n",
        "    raise ValueError(f\"Number of features ({X.shape[1]}) must equal n_qubits ({n_qubits}).\")\n",
        "\n",
        "dev = qml.device(\"default.qubit\", wires=n_qubits)\n",
        "\n",
        "def feature_map(x):\n",
        "    \"\"\"Embedding classical features into a quantum state.\n",
        "       x must be iterable with length == n_qubits.\n",
        "    \"\"\"\n",
        "    # Ensure x is 1D array-like with correct length\n",
        "    x = onp.asarray(x).flatten()\n",
        "    if x.shape[0] != n_qubits:\n",
        "        raise ValueError(f\"feature_map expects input length {n_qubits}, got {x.shape[0]}\")\n",
        "\n",
        "    for i in range(n_qubits):\n",
        "        qml.Hadamard(wires=i)\n",
        "        qml.RZ(x[i], wires=i)\n",
        "\n",
        "    # Add simple pairwise entanglement (ZZ-like)\n",
        "    for i in range(n_qubits - 1):\n",
        "        qml.CNOT(wires=[i, i+1])\n",
        "        qml.RZ(x[i] * x[i+1], wires=i+1)\n",
        "        qml.CNOT(wires=[i, i+1])\n",
        "\n",
        "# Circuit that returns the state vector for given input x\n",
        "@qml.qnode(dev)\n",
        "def state_circuit(x):\n",
        "    feature_map(x)\n",
        "    return qml.state()\n",
        "\n",
        "# -------------------------------\n",
        "# (Optional) Draw circuits for a sample pair\n",
        "# -------------------------------\n",
        "sample_x = x_train[0]\n",
        "sample_y = x_train[1]\n",
        "\n",
        "print(\"\\n--- Feature Map Circuit (text) ---\")\n",
        "print(qml.draw(state_circuit)(sample_x))\n",
        "\n",
        "print(\"\\n--- Feature Map Circuit (matplotlib) ---\")\n",
        "fig, ax = qml.draw_mpl(state_circuit)(sample_x)\n",
        "plt.show()\n",
        "\n",
        "# -------------------------------\n",
        "# Kernel (fidelity) and Gram matrix construction\n",
        "# -------------------------------\n",
        "def kernel(x1, x2):\n",
        "    \"\"\"Return fidelity between |Φ(x1)> and |Φ(x2)>:\n",
        "       F = |<Φ(x1)|Φ(x2)>|^2\n",
        "       We compute states via state_circuit and then fidelity.\n",
        "    \"\"\"\n",
        "    # Convert to pennylane.numpy arrays for the qnode if necessary\n",
        "    state1 = state_circuit(np.array(x1))\n",
        "    state2 = state_circuit(np.array(x2))\n",
        "    overlap = np.vdot(state1, state2)   # vdot handles complex conjugation correctly\n",
        "    fidelity = np.abs(overlap)**2\n",
        "    # convert fidelity to Python float\n",
        "    return float(fidelity)\n",
        "\n",
        "def compute_kernel_matrix(X1, X2):\n",
        "    \"\"\"Compute the Gram matrix K where K[i,j] = kernel(X1[i], X2[j])\n",
        "       Returns a standard numpy.ndarray (float64) for sklearn compatibility.\n",
        "    \"\"\"\n",
        "    n1 = len(X1)\n",
        "    n2 = len(X2)\n",
        "    K = onp.zeros((n1, n2), dtype=onp.float64)\n",
        "    for i, x1 in enumerate(X1):\n",
        "        for j, x2 in enumerate(X2):\n",
        "            K[i, j] = kernel(x1, x2)\n",
        "    return K\n",
        "\n",
        "# Compute kernel matrices\n",
        "print(\"\\nComputing training Gram matrix (this may take a bit)...\")\n",
        "K_train = compute_kernel_matrix(x_train, x_train)\n",
        "print(\"Computing test Gram matrix...\")\n",
        "K_test = compute_kernel_matrix(x_test, x_train)\n",
        "\n",
        "# -------------------------------\n",
        "# Train QSVM (classical SVM with quantum kernel)\n",
        "# -------------------------------\n",
        "qsvm_model = SVC(kernel=\"precomputed\", probability=False)\n",
        "qsvm_model.fit(K_train, y_train)\n",
        "\n",
        "# Predictions\n",
        "y_pred = qsvm_model.predict(K_test)\n",
        "print(\"\\nConfusion Matrix\")\n",
        "print(confusion_matrix(y_test, y_pred))\n",
        "print(\"\\nClassification Report\")\n",
        "print(classification_report(y_test, y_pred, target_names=encoder.classes_))\n",
        "\n",
        "# -------------------------------\n",
        "# Test on a new input\n",
        "# -------------------------------\n",
        "# Provide new sample in the original feature scale; we must scale it using the same scaler used earlier.\n",
        "raw_new_point = onp.array([4.4, 4.4, 4.4, 4.4], dtype=float).reshape(1, -1)\n",
        "new_point_scaled = scaler.transform(raw_new_point)  # shape (1,4)\n",
        "\n",
        "K_new = compute_kernel_matrix(new_point_scaled, x_train)  # shape (1, n_train)\n",
        "pred_label = qsvm_model.predict(K_new)\n",
        "print(\"\\nPredicted flower type for (4.4, 4.4, 4.4, 4.4):\", encoder.inverse_transform(pred_label)[0])"
      ],
      "metadata": {
        "colab": {
          "base_uri": "https://localhost:8080/",
          "height": 958
        },
        "id": "HW2Uk2OFS3IF",
        "outputId": "356bf856-2468-4cf0-9f9d-8441b16d6d04"
      },
      "execution_count": null,
      "outputs": [
        {
          "output_type": "stream",
          "name": "stdout",
          "text": [
            "Column names in the dataframe: ['sepal.length', 'sepal.width', 'petal.length', 'petal.width', 'variety']\n",
            "\n",
            "--- Feature Map Circuit (text) ---\n",
            "0: ──H──RZ(0.55)─╭●───────────╭●─────────────────────────────────┤  State\n",
            "1: ──H──RZ(0.80)─╰X──RZ(0.44)─╰X─╭●───────────╭●─────────────────┤  State\n",
            "2: ──H──RZ(1.05)─────────────────╰X──RZ(0.84)─╰X─╭●───────────╭●─┤  State\n",
            "3: ──H──RZ(1.58)─────────────────────────────────╰X──RZ(1.65)─╰X─┤  State\n",
            "\n",
            "--- Feature Map Circuit (matplotlib) ---\n"
          ]
        },
        {
          "output_type": "display_data",
          "data": {
            "text/plain": [
              "<Figure size 1400x500 with 1 Axes>"
            ],
            "image/png": "[encoded data removed]"
          },
          "metadata": {}
        },
        {
          "output_type": "stream",
          "name": "stdout",
          "text": [
            "\n",
            "Computing training Gram matrix (this may take a bit)...\n",
            "Computing test Gram matrix...\n",
            "\n",
            "Confusion Matrix\n",
            "[[15  0  1]\n",
            " [ 0 17  0]\n",
            " [ 0  2 15]]\n",
            "\n",
            "Classification Report\n",
            "                 precision    recall  f1-score   support\n",
            "\n",
            "    Iris-setosa       1.00      0.94      0.97        16\n",
            "Iris-versicolor       0.89      1.00      0.94        17\n",
            " Iris-virginica       0.94      0.88      0.91        17\n",
            "\n",
            "       accuracy                           0.94        50\n",
            "      macro avg       0.94      0.94      0.94        50\n",
            "   weighted avg       0.94      0.94      0.94        50\n",
            "\n",
            "\n",
            "Predicted flower type for (4.4, 4.4, 4.4, 4.4): Iris-setosa\n"
          ]
        }
      ]
    },
    {
      "cell_type": "code",
      "metadata": {
        "colab": {
          "base_uri": "https://localhost:8080/"
        },
        "id": "580f5551",
        "outputId": "5b21f3ea-7abb-4ab5-ca76-56bbf96c9941"
      },
      "source": [
        "import requests\n",
        "\n",
        "url = \"https://archive.ics.uci.edu/ml/machine-learning-databases/iris/iris.data\"\n",
        "response = requests.get(url)\n",
        "\n",
        "if response.status_code == 200:\n",
        "    with open(\"iris.csv\", \"w\") as f:\n",
        "        f.write(response.text)\n",
        "    print(\"iris.csv downloaded successfully from UCI repository.\")\n",
        "else:\n",
        "    print(f\"Error downloading iris.csv from UCI repository. Status code: {response.status_code}\")\n",
        "    print(\"Content received:\")\n",
        "    print(response.text[:200]) # Print first 200 characters of the response content"
      ],
      "execution_count": null,
      "outputs": [
        {
          "output_type": "stream",
          "name": "stdout",
          "text": [
            "iris.csv downloaded successfully from UCI repository.\n"
          ]
        }
      ]
    },
    {
      "cell_type": "code",
      "source": [
        "Result:\n",
        "   Thus the program for implementing a qsvm on the dataset using pennylane were written, executed and verified successfully"
      ],
      "metadata": {
        "id": "4scVqCx4PqSY"
      },
      "execution_count": null,
      "outputs": []
    }
  ]
}