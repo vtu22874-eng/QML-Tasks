{
  "nbformat": 4,
  "nbformat_minor": 0,
  "metadata": {
    "colab": {
      "provenance": [],
      "include_colab_link": true
    },
    "kernelspec": {
      "name": "python3",
      "display_name": "Python 3"
    },
    "language_info": {
      "name": "python"
    }
  },
  "cells": [
    {
      "cell_type": "markdown",
      "metadata": {
        "id": "view-in-github",
        "colab_type": "text"
      },
      "source": [
        "<a href=\"https://colab.research.google.com/github/vtu22874-eng/QML-Tasks/blob/main/TASK_5_CNOT_Gate_and_Quantum_Teleportation_.ipynb\" target=\"_parent\"><img src=\"https://colab.research.google.com/assets/colab-badge.svg\" alt=\"Open In Colab\"/></a>"
      ]
    },
    {
      "cell_type": "code",
      "execution_count": null,
      "metadata": {
        "id": "UjVClF5pGQR-"
      },
      "outputs": [],
      "source": [
        "Aim:\n",
        "    To simulate a CNOT gate and implement a simplified quantum teleportation protocol using Qiskit.\n",
        "\n",
        "Algorithm for CNOT Gate Implementation\n",
        "  1. Initialize a quantum circuit with 2 qubits and 2 classical bits.\n",
        "  2. Prepare input states (e.g., test all possible combinations: |00⟩, |01⟩, |10⟩, |11⟩).\n",
        "  3. Apply CNOT gate (control qubit = q0, target qubit = q1).\n",
        "  4. Measure the qubits and store results in classical bits.\n",
        "  5. Simulate the circuit using Qiskit’s Aer simulator.\n",
        "  6. Plot the measurement outcomes."
      ]
    },
    {
      "cell_type": "code",
      "source": [
        "from qiskit import QuantumCircuit\n",
        "from qiskit_aer import Aer\n",
        "from qiskit.visualization import plot_histogram\n",
        "import matplotlib.pyplot as plt\n",
        "\n",
        "def cnot_circuit(input_state):\n",
        "    \"\"\"\n",
        "    Creates and simulates a CNOT circuit for a given input\n",
        "state.\n",
        "    Args:\n",
        "        input_state (str): '00', '01', '10', or '11'\n",
        "    \"\"\"\n",
        "    qc = QuantumCircuit(2, 2)  # 2 qubits, 2 classical bits\n",
        "\n",
        "    # Prepare input state\n",
        "    if input_state[0] == '1':\n",
        "        qc.x(0)  # Set q0 to |1⟩\n",
        "    if input_state[1] == '1':\n",
        "        qc.x(1)  # Set q1 to |1⟩\n",
        "\n",
        "    # Apply CNOT (q0=control, q1=target)\n",
        "    qc.cx(0, 1)\n",
        "\n",
        "    # Measure qubits\n",
        "    qc.measure([0, 1], [0, 1])\n",
        "\n",
        "    # Simulate\n",
        "    simulator = Aer.get_backend('qasm_simulator')\n",
        "    result = simulator.run(qc, shots=1000).result()\n",
        "    counts = result.get_counts(qc)\n",
        "\n",
        "    # Plot results\n",
        "    print(f\"\\nCNOT Gate Test | Input: |{input_state}⟩\")\n",
        "    print(\"Circuit Diagram:\")\n",
        "    print(qc.draw(output='text'))\n",
        "    plot_histogram(counts)\n",
        "    plt.show()\n",
        "\n",
        "# Test all possible inputs\n",
        "for state in ['00', '01', '10', '11']:\n",
        "    cnot_circuit(state)"
      ],
      "metadata": {
        "colab": {
          "base_uri": "https://localhost:8080/"
        },
        "id": "fhVFExzLGpvA",
        "outputId": "728e69dd-441c-4717-d2af-111f5e34c733"
      },
      "execution_count": null,
      "outputs": [
        {
          "output_type": "stream",
          "name": "stdout",
          "text": [
            "\n",
            "CNOT Gate Test | Input: |00⟩\n",
            "Circuit Diagram:\n",
            "          ┌─┐   \n",
            "q_0: ──■──┤M├───\n",
            "     ┌─┴─┐└╥┘┌─┐\n",
            "q_1: ┤ X ├─╫─┤M├\n",
            "     └───┘ ║ └╥┘\n",
            "c: 2/══════╩══╩═\n",
            "           0  1 \n",
            "\n",
            "CNOT Gate Test | Input: |01⟩\n",
            "Circuit Diagram:\n",
            "               ┌─┐   \n",
            "q_0: ───────■──┤M├───\n",
            "     ┌───┐┌─┴─┐└╥┘┌─┐\n",
            "q_1: ┤ X ├┤ X ├─╫─┤M├\n",
            "     └───┘└───┘ ║ └╥┘\n",
            "c: 2/═══════════╩══╩═\n",
            "                0  1 \n",
            "\n",
            "CNOT Gate Test | Input: |10⟩\n",
            "Circuit Diagram:\n",
            "     ┌───┐     ┌─┐   \n",
            "q_0: ┤ X ├──■──┤M├───\n",
            "     └───┘┌─┴─┐└╥┘┌─┐\n",
            "q_1: ─────┤ X ├─╫─┤M├\n",
            "          └───┘ ║ └╥┘\n",
            "c: 2/═══════════╩══╩═\n",
            "                0  1 \n",
            "\n",
            "CNOT Gate Test | Input: |11⟩\n",
            "Circuit Diagram:\n",
            "     ┌───┐     ┌─┐   \n",
            "q_0: ┤ X ├──■──┤M├───\n",
            "     ├───┤┌─┴─┐└╥┘┌─┐\n",
            "q_1: ┤ X ├┤ X ├─╫─┤M├\n",
            "     └───┘└───┘ ║ └╥┘\n",
            "c: 2/═══════════╩══╩═\n",
            "                0  1 \n"
          ]
        }
      ]
    },
    {
      "cell_type": "code",
      "source": [
        "Result:\n",
        "  Thus the program for CNOT gate and quantum teleportation were written, executed and verified successfully"
      ],
      "metadata": {
        "id": "0bc7tVGyHK7l"
      },
      "execution_count": null,
      "outputs": []
    }
  ]
}